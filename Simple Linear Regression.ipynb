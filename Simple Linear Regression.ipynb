{
 "cells": [
  {
   "cell_type": "markdown",
   "metadata": {},
   "source": [
    "<h5> Importing Libraries </h5>"
   ]
  },
  {
   "cell_type": "code",
   "execution_count": 1,
   "metadata": {},
   "outputs": [],
   "source": [
    "from sklearn import linear_model\n",
    "import pandas as pd\n",
    "import matplotlib.pyplot as plt\n",
    "import numpy as np\n",
    "import math   \n",
    "from scipy import stats as st "
   ]
  },
  {
   "cell_type": "markdown",
   "metadata": {},
   "source": [
    "<h5> Loading the data </h5>"
   ]
  },
  {
   "cell_type": "code",
   "execution_count": 2,
   "metadata": {},
   "outputs": [],
   "source": [
    "dirty_training_set = pd.read_csv('train_lr.csv')\n",
    "dirty_test_set = pd.read_csv('test_lr.csv')"
   ]
  },
  {
   "cell_type": "code",
   "execution_count": 3,
   "metadata": {},
   "outputs": [
    {
     "data": {
      "text/html": [
       "<div>\n",
       "<style scoped>\n",
       "    .dataframe tbody tr th:only-of-type {\n",
       "        vertical-align: middle;\n",
       "    }\n",
       "\n",
       "    .dataframe tbody tr th {\n",
       "        vertical-align: top;\n",
       "    }\n",
       "\n",
       "    .dataframe thead th {\n",
       "        text-align: right;\n",
       "    }\n",
       "</style>\n",
       "<table border=\"1\" class=\"dataframe\">\n",
       "  <thead>\n",
       "    <tr style=\"text-align: right;\">\n",
       "      <th></th>\n",
       "      <th>x</th>\n",
       "      <th>y</th>\n",
       "    </tr>\n",
       "  </thead>\n",
       "  <tbody>\n",
       "    <tr>\n",
       "      <th>0</th>\n",
       "      <td>24.0</td>\n",
       "      <td>21.549452</td>\n",
       "    </tr>\n",
       "    <tr>\n",
       "      <th>1</th>\n",
       "      <td>50.0</td>\n",
       "      <td>47.464463</td>\n",
       "    </tr>\n",
       "    <tr>\n",
       "      <th>2</th>\n",
       "      <td>15.0</td>\n",
       "      <td>17.218656</td>\n",
       "    </tr>\n",
       "    <tr>\n",
       "      <th>3</th>\n",
       "      <td>38.0</td>\n",
       "      <td>36.586398</td>\n",
       "    </tr>\n",
       "    <tr>\n",
       "      <th>4</th>\n",
       "      <td>87.0</td>\n",
       "      <td>87.288984</td>\n",
       "    </tr>\n",
       "  </tbody>\n",
       "</table>\n",
       "</div>"
      ],
      "text/plain": [
       "      x          y\n",
       "0  24.0  21.549452\n",
       "1  50.0  47.464463\n",
       "2  15.0  17.218656\n",
       "3  38.0  36.586398\n",
       "4  87.0  87.288984"
      ]
     },
     "execution_count": 3,
     "metadata": {},
     "output_type": "execute_result"
    }
   ],
   "source": [
    "dirty_training_set.head()"
   ]
  },
  {
   "cell_type": "code",
   "execution_count": 4,
   "metadata": {},
   "outputs": [],
   "source": [
    "training_set = dirty_training_set.dropna() \n",
    "test_set = dirty_test_set.dropna()"
   ]
  },
  {
   "cell_type": "code",
   "execution_count": 5,
   "metadata": {},
   "outputs": [
    {
     "name": "stdout",
     "output_type": "stream",
     "text": [
      "Rows before clean:  1400 \n",
      "\n",
      "Rows after clean:  1398 \n",
      "\n"
     ]
    }
   ],
   "source": [
    "print (\"Rows before clean: \", dirty_training_set.size, \"\\n\")\n",
    "print (\"Rows after clean: \", training_set.size, \"\\n\")"
   ]
  },
  {
   "cell_type": "code",
   "execution_count": 6,
   "metadata": {},
   "outputs": [
    {
     "name": "stdout",
     "output_type": "stream",
     "text": [
      "0    21.549452\n",
      "1    47.464463\n",
      "2    17.218656\n",
      "3    36.586398\n",
      "4    87.288984\n",
      "5    32.463875\n",
      "Name: y, dtype: float64\n",
      "0    24.0\n",
      "1    50.0\n",
      "2    15.0\n",
      "3    38.0\n",
      "4    87.0\n",
      "5    36.0\n",
      "Name: x, dtype: float64\n"
     ]
    }
   ],
   "source": [
    "print (training_set.loc[0:5]['y'])\n",
    "print (training_set.loc[0:5]['x'])"
   ]
  },
  {
   "cell_type": "code",
   "execution_count": 7,
   "metadata": {},
   "outputs": [
    {
     "name": "stderr",
     "output_type": "stream",
     "text": [
      "C:\\Users\\HI\\Anaconda3\\lib\\site-packages\\ipykernel_launcher.py:1: FutureWarning: Method .as_matrix will be removed in a future version. Use .values instead.\n",
      "  \"\"\"Entry point for launching an IPython kernel.\n",
      "C:\\Users\\HI\\Anaconda3\\lib\\site-packages\\ipykernel_launcher.py:2: FutureWarning: Method .as_matrix will be removed in a future version. Use .values instead.\n",
      "  \n",
      "C:\\Users\\HI\\Anaconda3\\lib\\site-packages\\ipykernel_launcher.py:5: FutureWarning: Method .as_matrix will be removed in a future version. Use .values instead.\n",
      "  \"\"\"\n",
      "C:\\Users\\HI\\Anaconda3\\lib\\site-packages\\ipykernel_launcher.py:6: FutureWarning: Method .as_matrix will be removed in a future version. Use .values instead.\n",
      "  \n"
     ]
    }
   ],
   "source": [
    "x_training_set = training_set.as_matrix(['x'])\n",
    "y_training_set = training_set.as_matrix(['y'])\n",
    "\n",
    "\n",
    "x_test_set = test_set.as_matrix(['x'])\n",
    "y_test_set = test_set.as_matrix(['y'])"
   ]
  },
  {
   "cell_type": "code",
   "execution_count": 8,
   "metadata": {},
   "outputs": [
    {
     "name": "stdout",
     "output_type": "stream",
     "text": [
      "Mean of X Training set:  50.01430615164521 \n",
      "\n",
      "Median of X Training set:  49.0 \n",
      "\n",
      "Mean of Y Training set:  49.939869170457804 \n",
      "\n",
      "Median of Y Training set:  48.97302037 \n",
      "\n",
      "Std Dev of X Training set:  28.933841385275375 \n",
      "\n",
      "Std Dev of Y Training set:  29.08838760426971 \n",
      "\n"
     ]
    }
   ],
   "source": [
    "print (\"Mean of X Training set: \", np.mean(x_training_set), \"\\n\")\n",
    "print (\"Median of X Training set: \", np.median(x_training_set), \"\\n\")\n",
    "print (\"Mean of Y Training set: \", np.mean(y_training_set), \"\\n\")\n",
    "print (\"Median of Y Training set: \", np.median(y_training_set), \"\\n\")\n",
    "print (\"Std Dev of X Training set: \", np.std(x_training_set), \"\\n\")\n",
    "print (\"Std Dev of Y Training set: \", np.std(y_training_set), \"\\n\")"
   ]
  },
  {
   "cell_type": "code",
   "execution_count": 9,
   "metadata": {},
   "outputs": [
    {
     "data": {
      "image/png": "[encoded data removed]",
      "text/plain": [
       "<Figure size 432x288 with 1 Axes>"
      ]
     },
     "metadata": {},
     "output_type": "display_data"
    }
   ],
   "source": [
    "plt.title('Relationship between X and Y')\n",
    "plt.scatter(x_training_set, y_training_set,  color='black')\n",
    "plt.show()"
   ]
  },
  {
   "cell_type": "code",
   "execution_count": 10,
   "metadata": {},
   "outputs": [
    {
     "data": {
      "image/png": "[encoded data removed]",
      "text/plain": [
       "<Figure size 432x288 with 2 Axes>"
      ]
     },
     "metadata": {},
     "output_type": "display_data"
    }
   ],
   "source": [
    "plt.subplot(1, 2, 1)\n",
    "plt.title('X training set')\n",
    "plt.hist(x_training_set)\n",
    "\n",
    "plt.subplot(1, 2, 2)\n",
    "plt.title('Y training set')\n",
    "plt.hist(y_training_set)\n",
    "plt.show()"
   ]
  },
  {
   "cell_type": "code",
   "execution_count": 11,
   "metadata": {},
   "outputs": [
    {
     "data": {
      "image/png": "[encoded data removed]",
      "text/plain": [
       "<Figure size 432x288 with 2 Axes>"
      ]
     },
     "metadata": {},
     "output_type": "display_data"
    }
   ],
   "source": [
    "plt.subplot(1, 2, 1)\n",
    "plt.title('X training set')\n",
    "plt.boxplot(x_training_set)\n",
    "\n",
    "plt.subplot(1, 2, 2)\n",
    "plt.title('Y training set')\n",
    "plt.boxplot(y_training_set)\n",
    "plt.show()"
   ]
  },
  {
   "cell_type": "markdown",
   "metadata": {},
   "source": [
    "<h3> Linear Regression </h3>"
   ]
  },
  {
   "cell_type": "code",
   "execution_count": 12,
   "metadata": {},
   "outputs": [
    {
     "data": {
      "text/plain": [
       "LinearRegression(copy_X=True, fit_intercept=True, n_jobs=1, normalize=False)"
      ]
     },
     "execution_count": 12,
     "metadata": {},
     "output_type": "execute_result"
    }
   ],
   "source": [
    "lm = linear_model.LinearRegression()\n",
    "lm.fit(x_training_set,y_training_set)"
   ]
  },
  {
   "cell_type": "code",
   "execution_count": 13,
   "metadata": {},
   "outputs": [
    {
     "name": "stdout",
     "output_type": "stream",
     "text": [
      "R sq:  0.9907015319025518\n"
     ]
    }
   ],
   "source": [
    "print('R sq: ',lm.score(x_training_set,y_training_set))"
   ]
  },
  {
   "cell_type": "code",
   "execution_count": 14,
   "metadata": {},
   "outputs": [
    {
     "name": "stdout",
     "output_type": "stream",
     "text": [
      "Correlation:  0.9953399077212527\n"
     ]
    }
   ],
   "source": [
    "print('Correlation: ', math.sqrt(lm.score(x_training_set,y_training_set)))"
   ]
  },
  {
   "cell_type": "code",
   "execution_count": 15,
   "metadata": {},
   "outputs": [
    {
     "name": "stdout",
     "output_type": "stream",
     "text": [
      "Coefficient for X  [[1.00065638]]\n"
     ]
    }
   ],
   "source": [
    "print(\"Coefficient for X \", lm.coef_)"
   ]
  },
  {
   "cell_type": "code",
   "execution_count": 16,
   "metadata": {},
   "outputs": [
    {
     "name": "stdout",
     "output_type": "stream",
     "text": [
      "Standard Error:  [1.09516205]\n"
     ]
    }
   ],
   "source": [
    "print (\"Standard Error: \",st.sem(x_training_set))"
   ]
  },
  {
   "cell_type": "code",
   "execution_count": 17,
   "metadata": {},
   "outputs": [
    {
     "name": "stdout",
     "output_type": "stream",
     "text": [
      "The t-statistic: [[0.91370623]]\n"
     ]
    }
   ],
   "source": [
    "ttest = lm.coef_/st.sem(x_training_set)\n",
    "print (\"The t-statistic:\",ttest)"
   ]
  },
  {
   "cell_type": "code",
   "execution_count": 18,
   "metadata": {},
   "outputs": [
    {
     "name": "stdout",
     "output_type": "stream",
     "text": [
      "Two tailed p-values: \n"
     ]
    },
    {
     "data": {
      "text/plain": [
       "(array([0.99533991]), array([0.]))"
      ]
     },
     "execution_count": 18,
     "metadata": {},
     "output_type": "execute_result"
    }
   ],
   "source": [
    "print (\"Two tailed p-values: \")\n",
    "st.pearsonr(x_training_set, y_training_set)"
   ]
  },
  {
   "cell_type": "code",
   "execution_count": 19,
   "metadata": {},
   "outputs": [],
   "source": [
    "TSS = y_training_set\n",
    "TSS = [i**2 for i in TSS]   \n",
    "TSS = np.sum(TSS)"
   ]
  },
  {
   "cell_type": "code",
   "execution_count": 20,
   "metadata": {},
   "outputs": [
    {
     "name": "stdout",
     "output_type": "stream",
     "text": [
      "The F-statistic is:   295202.86908682744\n"
     ]
    }
   ],
   "source": [
    "y_predicted = lm.predict(x_training_set)   \n",
    "y_variance = y_training_set - y_predicted \n",
    "y_variance = [i**2 for i in y_variance]   \n",
    "RSS = np.sum(y_variance)\n",
    "\n",
    "Fstatistic = (TSS - RSS) / (RSS/(np.size(y_predicted) - 2))\n",
    "print (\"The F-statistic is:  \", Fstatistic)"
   ]
  },
  {
   "cell_type": "code",
   "execution_count": 21,
   "metadata": {},
   "outputs": [
    {
     "data": {
      "image/png": "[encoded data removed]",
      "text/plain": [
       "<Figure size 432x288 with 1 Axes>"
      ]
     },
     "metadata": {},
     "output_type": "display_data"
    }
   ],
   "source": [
    "y_predicted = lm.predict(x_test_set)\n",
    "\n",
    "plt.title('Comparison of Y values in test and the Predicted values')\n",
    "plt.ylabel('Test Set')\n",
    "plt.xlabel('Predicted values')\n",
    "plt.scatter(y_predicted, y_test_set,  color='black')\n",
    "plt.show()"
   ]
  },
  {
   "cell_type": "code",
   "execution_count": null,
   "metadata": {},
   "outputs": [],
   "source": []
  }
 ],
 "metadata": {
  "kernelspec": {
   "display_name": "Python 3",
   "language": "python",
   "name": "python3"
  },
  "language_info": {
   "codemirror_mode": {
    "name": "ipython",
    "version": 3
   },
   "file_extension": ".py",
   "mimetype": "text/x-python",
   "name": "python",
   "nbconvert_exporter": "python",
   "pygments_lexer": "ipython3",
   "version": "3.6.5"
  }
 },
 "nbformat": 4,
 "nbformat_minor": 2
}
